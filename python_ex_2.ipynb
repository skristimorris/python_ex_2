{
 "metadata": {
  "language_info": {
   "codemirror_mode": {
    "name": "ipython",
    "version": 3
   },
   "file_extension": ".py",
   "mimetype": "text/x-python",
   "name": "python",
   "nbconvert_exporter": "python",
   "pygments_lexer": "ipython3",
   "version": "3.8.8"
  },
  "orig_nbformat": 2,
  "kernelspec": {
   "name": "python388jvsc74a57bd09c4476201b40bfc589e08e435c0f60a1093be9e76ed4fbd362cd038c079fbf5d",
   "display_name": "Python 3.8.8 64-bit ('base': conda)"
  }
 },
 "nbformat": 4,
 "nbformat_minor": 2,
 "cells": [
  {
   "cell_type": "code",
   "execution_count": 161,
   "metadata": {},
   "outputs": [
    {
     "output_type": "stream",
     "name": "stdout",
     "text": [
      "charding@iastate.edu Seems legit\nchris.edu - error: Must have exactly one @!, error code: 1\nchris@edu - error: post @ part must have exactly one dot!, error code: 4\n@bla.edu - error: pre @ part must contain 3 - 16 alfanum chars, error code: 2\nthroatwobblermangrove@mpfc.org - error: pre @ part must contain 3 - 16 alfanum chars, error code: 2\nchris@X.com - error: part after @ and before . must contain 2 - 8 alfanum chars, error code: 5\nchris.harding@iastate.edu - error: pre @ part must only contain alfanum chars, error code: 3\nchris@pymart.biz - error: past-dot part invalid, must be from: com, edu, org, gov, error code: 7\nchris@letsgo!.org - error: part after @ and before . must only contain alfanum chars, error code: 6\nchris@megasavings.org - error: part after @ and before . must contain 2 - 8 alfanum chars, error code: 5\ntc@tank.com - error: pre @ part must contain 3 - 16 alfanum chars, error code: 2\n"
     ]
    }
   ],
   "source": [
    "def is_valid_email_address(s):\n",
    "   \n",
    "    t = \"@\" in s\n",
    "    if t == False:  \n",
    "        return 1, \"Must have exactly one @!\"\n",
    "\n",
    "    A = s.split('@')[0] # get string before @ \n",
    "    if len(A) < 3 or len(A) > 16 and A.isalnum():\n",
    "        return 2, \"pre @ part must contain 3 - 16 alfanum chars\"\n",
    "    elif A.isalnum() == False:\n",
    "        return 3, \"pre @ part must only contain alfanum chars\"\n",
    "\n",
    "    d = \".\" in s\n",
    "    if d == False:\n",
    "        return 4, \"post @ part must have exactly one dot!\"\n",
    "   \n",
    "    B = s[s.index('@')+1:]\n",
    "    B = B.split(\".\")[0]\n",
    "    if len(B) < 2 or len(B) > 8 and B.isalnum():\n",
    "        return 5, \"part after @ and before . must contain 2 - 8 alfanum chars\"\n",
    "    elif B.isalnum() == False:\n",
    "        return 6, \"part after @ and before . must only contain alfanum chars\"\n",
    "    \n",
    "    C = s.split('.')[1] # get string after .\n",
    "    g = C in \"com edu org gov\"\n",
    "    if g == False:\n",
    "        return 7, \"past-dot part invalid, must be from: com, edu, org, gov\"\n",
    "\n",
    "    return None, \"Seems legit\"\n",
    "\n",
    "# This if ensures that the following is NOT run if this file was imported as a module (which we'll do next!)\n",
    "if __name__ == \"__main__\":\n",
    "\n",
    "    # tests, including edge cases (incomplete? add more!)\n",
    "    email_list = [\"charding@iastate.edu\", \n",
    "        \"chris.edu\",\n",
    "        \"chris@edu\",\n",
    "        \"@bla.edu\",\n",
    "        \"throatwobblermangrove@mpfc.org\", \n",
    "        \"chris@X.com\",\n",
    "        \"chris.harding@iastate.edu\",\n",
    "        \"chris@pymart.biz\",\n",
    "        \"chris@letsgo!.org\",\n",
    "        \"chris@megasavings.org\",\n",
    "        \"tc@tank.com\",\n",
    "        ]\n",
    "    # validate each email from the list\n",
    "    for e in email_list:\n",
    "        r, s = is_valid_email_address(e) \n",
    "        if r == None:\n",
    "            print(e, s) # OK\n",
    "        else:\n",
    "            print(f\"{e} - error: {s}, error code: {r}\") # Error"
   ]
  },
  {
   "cell_type": "code",
   "execution_count": 21,
   "metadata": {},
   "outputs": [
    {
     "output_type": "stream",
     "name": "stdout",
     "text": [
      "charding!\nno\niastate!\nnot right\neduc\nwrong\n"
     ]
    }
   ],
   "source": [
    "# A must have between 3 and 16 alpha numeric chars (test: isalnum()) \n",
    "# B must have between 2 and 8 alpha numeric chars (test: isalnum()) \n",
    "# C must be one of these:  com edu org gov \n",
    "\n",
    "s = \"charding!@iastate!.educ\" # email input\n",
    "A = s.split('@')[0] # get string before @ \n",
    "print(A)\n",
    "#print(len(A))\n",
    "if len(A) > 3 and len(A) < 16 and A.isalnum():\n",
    "#if A.isalnum():\n",
    "    print(\"2\")\n",
    "else:\n",
    "    print(\"no\")\n",
    "\n",
    "AB = s[s.index('@')+1:] # get string after @ \n",
    "B = AB.split('.')[0] # get string before .\n",
    "print(B)\n",
    "if len(B) > 2 and len(B) < 8 and B.isalnum():\n",
    "    print(\"5\")\n",
    "else:\n",
    "    print(\"not right\")\n",
    "\n",
    "C = s.split('.')[1] # get string after .\n",
    "print(C)\n",
    "if C == \"com\" or C == \"edu\" or C == \"org\" or C == \"gov\":\n",
    "    print(\"7\")\n",
    "else:\n",
    "    print(\"wrong\")"
   ]
  },
  {
   "cell_type": "code",
   "execution_count": 89,
   "metadata": {},
   "outputs": [
    {
     "output_type": "stream",
     "name": "stdout",
     "text": [
      "Must have exactly one @!\npre @ part must contain 3 - 16 alfanum chars\npost @ part must have exactly one dot!\n"
     ]
    }
   ],
   "source": [
    "s = \"chrisfghrredu\"\n",
    "\n",
    "t = \"@\" in s\n",
    "if t == False:\n",
    "    print('Must have exactly one @!')\n",
    "\n",
    "if len(A) > 3 and len(A) < 16 and A.isalnum():\n",
    "    print('pre @ part must contain 3 - 16 alfanum chars')\n",
    "\n",
    "d = \".\" in s\n",
    "if d == False:\n",
    "    print('post @ part must have exactly one dot!')"
   ]
  },
  {
   "cell_type": "code",
   "execution_count": 127,
   "metadata": {},
   "outputs": [
    {
     "output_type": "stream",
     "name": "stdout",
     "text": [
      "fghrr\n.edu\n"
     ]
    }
   ],
   "source": [
    "s = \"chris@fghrr.edu\"\n",
    "A = s.split('@')[0] # get string before @ \n",
    "#print(A)\n",
    "#AB = s[s.index('@')+1:] # get string after @ \n",
    "#print(AB)\n",
    "#B = (s[s.index(\"@\")+1:]) - (s[s.index(\".\"):]) # get string before . and after @\n",
    "B = s[s.index('@')+1:]\n",
    "B = B.split(\".\")[0]\n",
    "print(B)\n",
    "C = s.split('.')[1] # get string after .\n",
    "#print(C)\n",
    "d = s[s.index(\".\"):]\n",
    "print(d)"
   ]
  },
  {
   "cell_type": "code",
   "execution_count": 160,
   "metadata": {},
   "outputs": [
    {
     "output_type": "stream",
     "name": "stdout",
     "text": [
      "False\npast-dot part invalid, must be from: com, edu, org, gov\n"
     ]
    }
   ],
   "source": [
    "    s = \"chris@pymart.abc\"\n",
    "\n",
    "    t = \"@\" in s\n",
    "    if t == False:  \n",
    "        print(\"Must have exactly one @!\")\n",
    "\n",
    "    A = s.split('@')[0] # get string before @ \n",
    "    if len(A) < 3 or len(A) > 16 and A.isalnum():\n",
    "        print(\"pre @ part must contain 3 - 16 alfanum chars\")\n",
    "    elif A.isalnum() == False:\n",
    "        print(\"pre @ part must only contain alfanum chars\")\n",
    "\n",
    "    d = \".\" in s\n",
    "    if d == False:\n",
    "        print(\"post @ part must have exactly one dot!\")\n",
    "   \n",
    "    B = s[s.index('@')+1:]\n",
    "    B = B.split(\".\")[0]\n",
    "    if len(B) < 2 or len(B) > 8 and B.isalnum():\n",
    "        print(\"part after @ and before . must contain 2 - 8 alfanum chars\")\n",
    "    elif B.isalnum() == False:\n",
    "        print(\"part after @ and before . must only contain alfanum chars\")\n",
    "    \n",
    "    C = s.split('.')[1] # get string after .\n",
    "    g = C in \"com edu org gov\"\n",
    "    print(g)\n",
    "    if g == False:\n",
    "        print(\"past-dot part invalid, must be from: com, edu, org, gov\")\n",
    "\n",
    "    else:\n",
    "        print(\"Seems legit\")"
   ]
  },
  {
   "cell_type": "code",
   "execution_count": 1,
   "metadata": {},
   "outputs": [
    {
     "output_type": "stream",
     "name": "stdout",
     "text": [
      "bghgsfds is invalid!\n",
      "Reason: Must have exactly one @!\n",
      "Please enter a valid email.\n",
      "Number of attempts left: 2\n",
      "bghgsfds is invalid!\n",
      "Reason: Must have exactly one @!\n",
      "Please enter a valid email.\n",
      "Number of attempts left: 1\n",
      "bghgsfds is invalid!\n",
      "Reason: Must have exactly one @!\n",
      "Please enter a valid email.\n",
      "Number of attempts left: 0\n",
      "invalid email bghgsfds\n"
     ]
    }
   ],
   "source": [
    "from ex_2_task_1 import is_valid_email_address as is_valid \n",
    "\n",
    "gave_up = False\n",
    "attempts_left = 3\n",
    "\n",
    "while attempts_left > 0:\n",
    "    email = input(\"Enter email address.\")\n",
    "    attempts_left = attempts_left - 1\n",
    "                \n",
    "    r, s = is_valid(email) \n",
    "    if r == None:\n",
    "        print(email, \"is valid.\")\n",
    "        break   \n",
    "    else:\n",
    "        print(email, \"is invalid!\")\n",
    "        print(\"Reason:\", s)\n",
    "        print(\"Please enter a valid email.\")\n",
    "        print(\"Number of attempts left:\", attempts_left)\n",
    "        continue\n",
    "\n",
    "if attempts_left == 0:\n",
    "    gave_up = True\n",
    "\n",
    "if not gave_up:\n",
    "    print(\"valid email\", email)\n",
    "else:\n",
    "    print(\"invalid email\", email)"
   ]
  },
  {
   "cell_type": "code",
   "execution_count": null,
   "metadata": {},
   "outputs": [],
   "source": []
  }
 ]
}